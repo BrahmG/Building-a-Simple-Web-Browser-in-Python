{
  "nbformat": 4,
  "nbformat_minor": 0,
  "metadata": {
    "colab": {
      "name": "Building a Simple Web Browser in Python.ipynb",
      "provenance": []
    },
    "kernelspec": {
      "name": "python3",
      "display_name": "Python 3"
    }
  },
  "cells": [
    {
      "cell_type": "code",
      "metadata": {
        "id": "oNJiRJLXhEOl"
      },
      "source": [
        "import socket"
      ],
      "execution_count": 1,
      "outputs": []
    },
    {
      "cell_type": "code",
      "metadata": {
        "id": "UOkopOHGhHjA"
      },
      "source": [
        "mysock=socket.socket(socket.AF_INET,socket.SOCK_STREAM)\r\n",
        "mysock.connect(('data.pr4e.org',80))"
      ],
      "execution_count": 4,
      "outputs": []
    },
    {
      "cell_type": "code",
      "metadata": {
        "colab": {
          "base_uri": "https://localhost:8080/"
        },
        "id": "831R73KAhr5N",
        "outputId": "5656b029-749c-4244-c1c9-bf53144f55b8"
      },
      "source": [
        "cmd='GET http://data.pr4e.org/page1.htm HTTP/1.0\\r\\n\\r\\n'.encode() #utf string is passed as http url\r\n",
        "mysock.send(cmd)"
      ],
      "execution_count": 5,
      "outputs": [
        {
          "output_type": "execute_result",
          "data": {
            "text/plain": [
              "47"
            ]
          },
          "metadata": {
            "tags": []
          },
          "execution_count": 5
        }
      ]
    },
    {
      "cell_type": "code",
      "metadata": {
        "colab": {
          "base_uri": "https://localhost:8080/"
        },
        "id": "9zualTvMid7v",
        "outputId": "19fb445e-003f-4357-cd3f-846267150647"
      },
      "source": [
        "while True:\r\n",
        "  data=mysock.recv(512)\r\n",
        "  if(len(data))<1:\r\n",
        "    break\r\n",
        "  print(data.decode(),end='')\r\n",
        "\r\n",
        "mysock.close()    "
      ],
      "execution_count": 6,
      "outputs": [
        {
          "output_type": "stream",
          "text": [
            "HTTP/1.1 200 OK\r\n",
            "Date: Fri, 15 Jan 2021 14:53:56 GMT\r\n",
            "Server: Apache/2.4.18 (Ubuntu)\r\n",
            "Last-Modified: Mon, 15 May 2017 11:11:47 GMT\r\n",
            "ETag: \"80-54f8e1f004857\"\r\n",
            "Accept-Ranges: bytes\r\n",
            "Content-Length: 128\r\n",
            "Cache-Control: max-age=0, no-cache, no-store, must-revalidate\r\n",
            "Pragma: no-cache\r\n",
            "Expires: Wed, 11 Jan 1984 05:00:00 GMT\r\n",
            "Connection: close\r\n",
            "Content-Type: text/html\r\n",
            "\r\n",
            "<h1>The First Page</h1>\n",
            "<p>\n",
            "If you like, you can switch to the \n",
            "<a href=\"http://data.pr4e.org/page2.htm\">\n",
            "Second Page</a>.\n",
            "</p>\n"
          ],
          "name": "stdout"
        }
      ]
    },
    {
      "cell_type": "code",
      "metadata": {
        "id": "TgP8XqJyivA-"
      },
      "source": [
        "#reference : Coursera"
      ],
      "execution_count": null,
      "outputs": []
    }
  ]
}